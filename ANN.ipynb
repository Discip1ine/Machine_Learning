{
 "cells": [
  {
   "cell_type": "markdown",
   "metadata": {},
   "source": [
    "\n",
    " "
   ]
  },
  {
   "cell_type": "code",
   "execution_count": 14,
   "metadata": {},
   "outputs": [
    {
     "name": "stdout",
     "output_type": "stream",
     "text": [
      "Requirement already satisfied: keras in c:\\users\\lukel\\appdata\\local\\continuum\\anaconda3\\envs\\machinelearninghw4\\lib\\site-packages (2.3.1)\n",
      "Requirement already satisfied: numpy>=1.9.1 in c:\\users\\lukel\\appdata\\local\\continuum\\anaconda3\\envs\\machinelearninghw4\\lib\\site-packages (from keras) (1.18.3)\n",
      "Requirement already satisfied: h5py in c:\\users\\lukel\\appdata\\local\\continuum\\anaconda3\\envs\\machinelearninghw4\\lib\\site-packages (from keras) (2.10.0)\n",
      "Requirement already satisfied: keras-preprocessing>=1.0.5 in c:\\users\\lukel\\appdata\\local\\continuum\\anaconda3\\envs\\machinelearninghw4\\lib\\site-packages (from keras) (1.1.0)\n",
      "Requirement already satisfied: keras-applications>=1.0.6 in c:\\users\\lukel\\appdata\\local\\continuum\\anaconda3\\envs\\machinelearninghw4\\lib\\site-packages (from keras) (1.0.8)\n",
      "Requirement already satisfied: pyyaml in c:\\users\\lukel\\appdata\\local\\continuum\\anaconda3\\envs\\machinelearninghw4\\lib\\site-packages (from keras) (5.3.1)\n",
      "Requirement already satisfied: scipy>=0.14 in c:\\users\\lukel\\appdata\\local\\continuum\\anaconda3\\envs\\machinelearninghw4\\lib\\site-packages (from keras) (1.4.1)\n",
      "Requirement already satisfied: six>=1.9.0 in c:\\users\\lukel\\appdata\\local\\continuum\\anaconda3\\envs\\machinelearninghw4\\lib\\site-packages (from keras) (1.14.0)\n",
      "Note: you may need to restart the kernel to use updated packages.\n"
     ]
    }
   ],
   "source": [
    "pip install keras"
   ]
  },
  {
   "cell_type": "code",
   "execution_count": 16,
   "metadata": {},
   "outputs": [
    {
     "name": "stdout",
     "output_type": "stream",
     "text": [
      "Requirement already satisfied: TensorFlow in c:\\users\\lukel\\appdata\\local\\continuum\\anaconda3\\envs\\machinelearninghw4\\lib\\site-packages (2.1.0)\n",
      "Requirement already satisfied: opt-einsum>=2.3.2 in c:\\users\\lukel\\appdata\\local\\continuum\\anaconda3\\envs\\machinelearninghw4\\lib\\site-packages (from TensorFlow) (3.2.1)\n",
      "Requirement already satisfied: keras-applications>=1.0.8 in c:\\users\\lukel\\appdata\\local\\continuum\\anaconda3\\envs\\machinelearninghw4\\lib\\site-packages (from TensorFlow) (1.0.8)\n",
      "Requirement already satisfied: tensorflow-estimator<2.2.0,>=2.1.0rc0 in c:\\users\\lukel\\appdata\\local\\continuum\\anaconda3\\envs\\machinelearninghw4\\lib\\site-packages (from TensorFlow) (2.1.0)\n",
      "Requirement already satisfied: grpcio>=1.8.6 in c:\\users\\lukel\\appdata\\local\\continuum\\anaconda3\\envs\\machinelearninghw4\\lib\\site-packages (from TensorFlow) (1.28.1)\n",
      "Requirement already satisfied: wheel>=0.26; python_version >= \"3\" in c:\\users\\lukel\\appdata\\local\\continuum\\anaconda3\\envs\\machinelearninghw4\\lib\\site-packages (from TensorFlow) (0.34.2)\n",
      "Requirement already satisfied: keras-preprocessing>=1.1.0 in c:\\users\\lukel\\appdata\\local\\continuum\\anaconda3\\envs\\machinelearninghw4\\lib\\site-packages (from TensorFlow) (1.1.0)\n",
      "Requirement already satisfied: six>=1.12.0 in c:\\users\\lukel\\appdata\\local\\continuum\\anaconda3\\envs\\machinelearninghw4\\lib\\site-packages (from TensorFlow) (1.14.0)\n",
      "Requirement already satisfied: google-pasta>=0.1.6 in c:\\users\\lukel\\appdata\\local\\continuum\\anaconda3\\envs\\machinelearninghw4\\lib\\site-packages (from TensorFlow) (0.2.0)\n",
      "Requirement already satisfied: gast==0.2.2 in c:\\users\\lukel\\appdata\\local\\continuum\\anaconda3\\envs\\machinelearninghw4\\lib\\site-packages (from TensorFlow) (0.2.2)\n",
      "Requirement already satisfied: protobuf>=3.8.0 in c:\\users\\lukel\\appdata\\local\\continuum\\anaconda3\\envs\\machinelearninghw4\\lib\\site-packages (from TensorFlow) (3.11.3)\n",
      "Requirement already satisfied: termcolor>=1.1.0 in c:\\users\\lukel\\appdata\\local\\continuum\\anaconda3\\envs\\machinelearninghw4\\lib\\site-packages (from TensorFlow) (1.1.0)\n",
      "Requirement already satisfied: scipy==1.4.1; python_version >= \"3\" in c:\\users\\lukel\\appdata\\local\\continuum\\anaconda3\\envs\\machinelearninghw4\\lib\\site-packages (from TensorFlow) (1.4.1)\n",
      "Requirement already satisfied: numpy<2.0,>=1.16.0 in c:\\users\\lukel\\appdata\\local\\continuum\\anaconda3\\envs\\machinelearninghw4\\lib\\site-packages (from TensorFlow) (1.18.3)\n",
      "Requirement already satisfied: absl-py>=0.7.0 in c:\\users\\lukel\\appdata\\local\\continuum\\anaconda3\\envs\\machinelearninghw4\\lib\\site-packages (from TensorFlow) (0.9.0)\n",
      "Requirement already satisfied: tensorboard<2.2.0,>=2.1.0 in c:\\users\\lukel\\appdata\\local\\continuum\\anaconda3\\envs\\machinelearninghw4\\lib\\site-packages (from TensorFlow) (2.1.1)\n",
      "Requirement already satisfied: wrapt>=1.11.1 in c:\\users\\lukel\\appdata\\local\\continuum\\anaconda3\\envs\\machinelearninghw4\\lib\\site-packages (from TensorFlow) (1.12.1)\n",
      "Requirement already satisfied: astor>=0.6.0 in c:\\users\\lukel\\appdata\\local\\continuum\\anaconda3\\envs\\machinelearninghw4\\lib\\site-packages (from TensorFlow) (0.8.1)\n",
      "Note: you may need to restart the kernel to use updated packages.\n",
      "Requirement already satisfied: h5py in c:\\users\\lukel\\appdata\\local\\continuum\\anaconda3\\envs\\machinelearninghw4\\lib\\site-packages (from keras-applications>=1.0.8->TensorFlow) (2.10.0)\n",
      "Requirement already satisfied: setuptools in c:\\users\\lukel\\appdata\\local\\continuum\\anaconda3\\envs\\machinelearninghw4\\lib\\site-packages (from protobuf>=3.8.0->TensorFlow) (46.1.3.post20200330)\n",
      "Requirement already satisfied: markdown>=2.6.8 in c:\\users\\lukel\\appdata\\local\\continuum\\anaconda3\\envs\\machinelearninghw4\\lib\\site-packages (from tensorboard<2.2.0,>=2.1.0->TensorFlow) (3.2.1)\n",
      "Requirement already satisfied: werkzeug>=0.11.15 in c:\\users\\lukel\\appdata\\local\\continuum\\anaconda3\\envs\\machinelearninghw4\\lib\\site-packages (from tensorboard<2.2.0,>=2.1.0->TensorFlow) (1.0.1)\n",
      "Requirement already satisfied: requests<3,>=2.21.0 in c:\\users\\lukel\\appdata\\local\\continuum\\anaconda3\\envs\\machinelearninghw4\\lib\\site-packages (from tensorboard<2.2.0,>=2.1.0->TensorFlow) (2.23.0)\n",
      "Requirement already satisfied: google-auth<2,>=1.6.3 in c:\\users\\lukel\\appdata\\local\\continuum\\anaconda3\\envs\\machinelearninghw4\\lib\\site-packages (from tensorboard<2.2.0,>=2.1.0->TensorFlow) (1.14.1)\n",
      "Requirement already satisfied: google-auth-oauthlib<0.5,>=0.4.1 in c:\\users\\lukel\\appdata\\local\\continuum\\anaconda3\\envs\\machinelearninghw4\\lib\\site-packages (from tensorboard<2.2.0,>=2.1.0->TensorFlow) (0.4.1)\n",
      "Requirement already satisfied: idna<3,>=2.5 in c:\\users\\lukel\\appdata\\local\\continuum\\anaconda3\\envs\\machinelearninghw4\\lib\\site-packages (from requests<3,>=2.21.0->tensorboard<2.2.0,>=2.1.0->TensorFlow) (2.9)\n",
      "Requirement already satisfied: certifi>=2017.4.17 in c:\\users\\lukel\\appdata\\local\\continuum\\anaconda3\\envs\\machinelearninghw4\\lib\\site-packages (from requests<3,>=2.21.0->tensorboard<2.2.0,>=2.1.0->TensorFlow) (2020.4.5.1)\n",
      "Requirement already satisfied: chardet<4,>=3.0.2 in c:\\users\\lukel\\appdata\\local\\continuum\\anaconda3\\envs\\machinelearninghw4\\lib\\site-packages (from requests<3,>=2.21.0->tensorboard<2.2.0,>=2.1.0->TensorFlow) (3.0.4)\n",
      "Requirement already satisfied: urllib3!=1.25.0,!=1.25.1,<1.26,>=1.21.1 in c:\\users\\lukel\\appdata\\local\\continuum\\anaconda3\\envs\\machinelearninghw4\\lib\\site-packages (from requests<3,>=2.21.0->tensorboard<2.2.0,>=2.1.0->TensorFlow) (1.25.9)\n",
      "Requirement already satisfied: pyasn1-modules>=0.2.1 in c:\\users\\lukel\\appdata\\local\\continuum\\anaconda3\\envs\\machinelearninghw4\\lib\\site-packages (from google-auth<2,>=1.6.3->tensorboard<2.2.0,>=2.1.0->TensorFlow) (0.2.8)\n",
      "Requirement already satisfied: cachetools<5.0,>=2.0.0 in c:\\users\\lukel\\appdata\\local\\continuum\\anaconda3\\envs\\machinelearninghw4\\lib\\site-packages (from google-auth<2,>=1.6.3->tensorboard<2.2.0,>=2.1.0->TensorFlow) (4.1.0)\n",
      "Requirement already satisfied: rsa<4.1,>=3.1.4 in c:\\users\\lukel\\appdata\\local\\continuum\\anaconda3\\envs\\machinelearninghw4\\lib\\site-packages (from google-auth<2,>=1.6.3->tensorboard<2.2.0,>=2.1.0->TensorFlow) (4.0)\n",
      "Requirement already satisfied: requests-oauthlib>=0.7.0 in c:\\users\\lukel\\appdata\\local\\continuum\\anaconda3\\envs\\machinelearninghw4\\lib\\site-packages (from google-auth-oauthlib<0.5,>=0.4.1->tensorboard<2.2.0,>=2.1.0->TensorFlow) (1.3.0)\n",
      "Requirement already satisfied: pyasn1<0.5.0,>=0.4.6 in c:\\users\\lukel\\appdata\\local\\continuum\\anaconda3\\envs\\machinelearninghw4\\lib\\site-packages (from pyasn1-modules>=0.2.1->google-auth<2,>=1.6.3->tensorboard<2.2.0,>=2.1.0->TensorFlow) (0.4.8)\n",
      "Requirement already satisfied: oauthlib>=3.0.0 in c:\\users\\lukel\\appdata\\local\\continuum\\anaconda3\\envs\\machinelearninghw4\\lib\\site-packages (from requests-oauthlib>=0.7.0->google-auth-oauthlib<0.5,>=0.4.1->tensorboard<2.2.0,>=2.1.0->TensorFlow) (3.1.0)\n"
     ]
    }
   ],
   "source": [
    "pip install TensorFlow"
   ]
  },
  {
   "cell_type": "code",
   "execution_count": 4,
   "metadata": {},
   "outputs": [
    {
     "name": "stdout",
     "output_type": "stream",
     "text": [
      "Requirement already satisfied: matplotlib in c:\\users\\lukel\\appdata\\local\\continuum\\anaconda3\\envs\\machinelearninghw4\\lib\\site-packages (3.2.1)\n",
      "Requirement already satisfied: numpy>=1.11 in c:\\users\\lukel\\appdata\\local\\continuum\\anaconda3\\envs\\machinelearninghw4\\lib\\site-packages (from matplotlib) (1.18.3)\n",
      "Requirement already satisfied: python-dateutil>=2.1 in c:\\users\\lukel\\appdata\\local\\continuum\\anaconda3\\envs\\machinelearninghw4\\lib\\site-packages (from matplotlib) (2.8.1)\n",
      "Requirement already satisfied: cycler>=0.10 in c:\\users\\lukel\\appdata\\local\\continuum\\anaconda3\\envs\\machinelearninghw4\\lib\\site-packages (from matplotlib) (0.10.0)\n",
      "Requirement already satisfied: kiwisolver>=1.0.1 in c:\\users\\lukel\\appdata\\local\\continuum\\anaconda3\\envs\\machinelearninghw4\\lib\\site-packages (from matplotlib) (1.2.0)\n",
      "Requirement already satisfied: pyparsing!=2.0.4,!=2.1.2,!=2.1.6,>=2.0.1 in c:\\users\\lukel\\appdata\\local\\continuum\\anaconda3\\envs\\machinelearninghw4\\lib\\site-packages (from matplotlib) (2.4.7)\n",
      "Requirement already satisfied: six>=1.5 in c:\\users\\lukel\\appdata\\local\\continuum\\anaconda3\\envs\\machinelearninghw4\\lib\\site-packages (from python-dateutil>=2.1->matplotlib) (1.14.0)\n",
      "Note: you may need to restart the kernel to use updated packages.\n"
     ]
    }
   ],
   "source": [
    "pip install matplotlib"
   ]
  },
  {
   "cell_type": "code",
   "execution_count": 13,
   "metadata": {},
   "outputs": [
    {
     "name": "stdout",
     "output_type": "stream",
     "text": [
      "Requirement already satisfied: keras-preprocessing in c:\\users\\lukel\\appdata\\local\\continuum\\anaconda3\\envs\\machinelearninghw4\\lib\\site-packages (1.1.0)\n",
      "Requirement already satisfied: six>=1.9.0 in c:\\users\\lukel\\appdata\\local\\continuum\\anaconda3\\envs\\machinelearninghw4\\lib\\site-packages (from keras-preprocessing) (1.14.0)\n",
      "Requirement already satisfied: numpy>=1.9.1 in c:\\users\\lukel\\appdata\\local\\continuum\\anaconda3\\envs\\machinelearninghw4\\lib\\site-packages (from keras-preprocessing) (1.18.3)\n",
      "Note: you may need to restart the kernel to use updated packages.\n"
     ]
    }
   ],
   "source": [
    "pip install keras-preprocessing"
   ]
  },
  {
   "cell_type": "code",
   "execution_count": 5,
   "metadata": {},
   "outputs": [],
   "source": [
    "from tensorflow import keras"
   ]
  },
  {
   "cell_type": "code",
   "execution_count": 6,
   "metadata": {},
   "outputs": [
    {
     "data": {
      "text/plain": [
       "'2.2.4-tf'"
      ]
     },
     "execution_count": 6,
     "metadata": {},
     "output_type": "execute_result"
    }
   ],
   "source": [
    "keras.__version__"
   ]
  },
  {
   "cell_type": "code",
   "execution_count": 7,
   "metadata": {},
   "outputs": [],
   "source": [
    "(X_train_full, y_train_full), (X_test, y_test) = keras.datasets.mnist.load_data()"
   ]
  },
  {
   "cell_type": "code",
   "execution_count": 8,
   "metadata": {},
   "outputs": [
    {
     "data": {
      "text/plain": [
       "(60000, 28, 28)"
      ]
     },
     "execution_count": 8,
     "metadata": {},
     "output_type": "execute_result"
    }
   ],
   "source": [
    "X_train_full.shape"
   ]
  },
  {
   "cell_type": "code",
   "execution_count": 9,
   "metadata": {},
   "outputs": [
    {
     "data": {
      "text/plain": [
       "dtype('uint8')"
      ]
     },
     "execution_count": 9,
     "metadata": {},
     "output_type": "execute_result"
    }
   ],
   "source": [
    "X_train_full.dtype"
   ]
  },
  {
   "cell_type": "code",
   "execution_count": 10,
   "metadata": {},
   "outputs": [],
   "source": [
    "X_valid, X_train = X_train_full[:5000] / 255., X_train_full[5000:] / 255.\n",
    "y_valid, y_train = y_train_full[:5000], y_train_full[5000:]\n",
    "X_test = X_test / 255."
   ]
  },
  {
   "cell_type": "code",
   "execution_count": 11,
   "metadata": {},
   "outputs": [],
   "source": [
    "import matplotlib as mpl\n",
    "import matplotlib.pyplot as plt"
   ]
  },
  {
   "cell_type": "code",
   "execution_count": 12,
   "metadata": {},
   "outputs": [
    {
     "data": {
      "image/png": "[encoded data removed]",
      "text/plain": [
       "<Figure size 432x288 with 1 Axes>"
      ]
     },
     "metadata": {
      "needs_background": "light"
     },
     "output_type": "display_data"
    }
   ],
   "source": [
    "plt.imshow(X_train[0], cmap=\"binary\")\n",
    "plt.axis('off')\n",
    "plt.show()"
   ]
  },
  {
   "cell_type": "code",
   "execution_count": 15,
   "metadata": {},
   "outputs": [
    {
     "data": {
      "text/plain": [
       "array([7, 3, 4, ..., 5, 6, 8], dtype=uint8)"
      ]
     },
     "execution_count": 15,
     "metadata": {},
     "output_type": "execute_result"
    }
   ],
   "source": [
    "y_train"
   ]
  },
  {
   "cell_type": "code",
   "execution_count": 16,
   "metadata": {},
   "outputs": [
    {
     "data": {
      "text/plain": [
       "(5000, 28, 28)"
      ]
     },
     "execution_count": 16,
     "metadata": {},
     "output_type": "execute_result"
    }
   ],
   "source": [
    "X_valid.shape"
   ]
  },
  {
   "cell_type": "code",
   "execution_count": 17,
   "metadata": {},
   "outputs": [
    {
     "data": {
      "text/plain": [
       "(10000, 28, 28)"
      ]
     },
     "execution_count": 17,
     "metadata": {},
     "output_type": "execute_result"
    }
   ],
   "source": [
    "X_test.shape"
   ]
  },
  {
   "cell_type": "code",
   "execution_count": 18,
   "metadata": {},
   "outputs": [
    {
     "data": {
      "image/png": "[encoded data removed]",
      "text/plain": [
       "<Figure size 864x345.6 with 40 Axes>"
      ]
     },
     "metadata": {
      "needs_background": "light"
     },
     "output_type": "display_data"
    }
   ],
   "source": [
    "n_rows = 4\n",
    "n_cols = 10\n",
    "plt.figure(figsize=(n_cols * 1.2, n_rows * 1.2))\n",
    "for row in range(n_rows):\n",
    "    for col in range(n_cols):\n",
    "        index = n_cols * row + col\n",
    "        plt.subplot(n_rows, n_cols, index + 1)\n",
    "        plt.imshow(X_train[index], cmap=\"binary\", interpolation=\"nearest\")\n",
    "        plt.axis('off')\n",
    "        plt.title(y_train[index], fontsize=12)\n",
    "plt.subplots_adjust(wspace=0.2, hspace=0.5)\n",
    "plt.show()"
   ]
  },
  {
   "cell_type": "code",
   "execution_count": 19,
   "metadata": {},
   "outputs": [],
   "source": [
    "K = keras.backend\n",
    "\n",
    "class ExponentialLearningRate(keras.callbacks.Callback):\n",
    "    def __init__(self, factor):\n",
    "        self.factor = factor\n",
    "        self.rates = []\n",
    "        self.losses = []\n",
    "    def on_batch_end(self, batch, logs):\n",
    "        self.rates.append(K.get_value(self.model.optimizer.lr))\n",
    "        self.losses.append(logs[\"loss\"])\n",
    "        K.set_value(self.model.optimizer.lr, self.model.optimizer.lr * self.factor)"
   ]
  },
  {
   "cell_type": "code",
   "execution_count": 21,
   "metadata": {},
   "outputs": [],
   "source": [
    "import numpy as np"
   ]
  },
  {
   "cell_type": "code",
   "execution_count": 23,
   "metadata": {},
   "outputs": [],
   "source": [
    "import tensorflow as tf"
   ]
  },
  {
   "cell_type": "code",
   "execution_count": 24,
   "metadata": {},
   "outputs": [],
   "source": [
    "keras.backend.clear_session()\n",
    "np.random.seed(42)\n",
    "tf.random.set_seed(42)"
   ]
  },
  {
   "cell_type": "code",
   "execution_count": 25,
   "metadata": {},
   "outputs": [],
   "source": [
    "model = keras.models.Sequential([\n",
    "    keras.layers.Flatten(input_shape=[28, 28]),\n",
    "    keras.layers.Dense(300, activation=\"relu\"),\n",
    "    keras.layers.Dense(100, activation=\"relu\"),\n",
    "    keras.layers.Dense(10, activation=\"softmax\")\n",
    "])"
   ]
  },
  {
   "cell_type": "code",
   "execution_count": 26,
   "metadata": {},
   "outputs": [],
   "source": [
    "model.compile(loss=\"sparse_categorical_crossentropy\",\n",
    "              optimizer=keras.optimizers.SGD(lr=1e-3),\n",
    "              metrics=[\"accuracy\"])\n",
    "expon_lr = ExponentialLearningRate(factor=1.005)"
   ]
  },
  {
   "cell_type": "code",
   "execution_count": 27,
   "metadata": {},
   "outputs": [
    {
     "name": "stdout",
     "output_type": "stream",
     "text": [
      "Train on 55000 samples, validate on 5000 samples\n",
      "55000/55000 [==============================] - 4s 66us/sample - loss: nan - accuracy: 0.5822 - val_loss: nan - val_accuracy: 0.0958\n"
     ]
    }
   ],
   "source": [
    "history = model.fit(X_train, y_train, epochs=1,\n",
    "                    validation_data=(X_valid, y_valid),\n",
    "                    callbacks=[expon_lr])"
   ]
  },
  {
   "cell_type": "code",
   "execution_count": 28,
   "metadata": {},
   "outputs": [
    {
     "data": {
      "text/plain": [
       "Text(0, 0.5, 'Loss')"
      ]
     },
     "execution_count": 28,
     "metadata": {},
     "output_type": "execute_result"
    },
    {
     "data": {
      "image/png": "[encoded data removed]",
      "text/plain": [
       "<Figure size 432x288 with 1 Axes>"
      ]
     },
     "metadata": {
      "needs_background": "light"
     },
     "output_type": "display_data"
    }
   ],
   "source": [
    "plt.plot(expon_lr.rates, expon_lr.losses)\n",
    "plt.gca().set_xscale('log')\n",
    "plt.hlines(min(expon_lr.losses), min(expon_lr.rates), max(expon_lr.rates))\n",
    "plt.axis([min(expon_lr.rates), max(expon_lr.rates), 0, expon_lr.losses[0]])\n",
    "plt.xlabel(\"Learning rate\")\n",
    "plt.ylabel(\"Loss\")"
   ]
  },
  {
   "cell_type": "code",
   "execution_count": 29,
   "metadata": {},
   "outputs": [],
   "source": [
    "keras.backend.clear_session()\n",
    "np.random.seed(42)\n",
    "tf.random.set_seed(42)"
   ]
  },
  {
   "cell_type": "code",
   "execution_count": 30,
   "metadata": {},
   "outputs": [],
   "source": [
    "model = keras.models.Sequential([\n",
    "    keras.layers.Flatten(input_shape=[28, 28]),\n",
    "    keras.layers.Dense(300, activation=\"relu\"),\n",
    "    keras.layers.Dense(100, activation=\"relu\"),\n",
    "    keras.layers.Dense(10, activation=\"softmax\")\n",
    "])"
   ]
  },
  {
   "cell_type": "code",
   "execution_count": 31,
   "metadata": {},
   "outputs": [],
   "source": [
    "model.compile(loss=\"sparse_categorical_crossentropy\",\n",
    "              optimizer=keras.optimizers.SGD(lr=2e-1),\n",
    "              metrics=[\"accuracy\"])"
   ]
  },
  {
   "cell_type": "code",
   "execution_count": 34,
   "metadata": {},
   "outputs": [],
   "source": [
    "import os"
   ]
  },
  {
   "cell_type": "code",
   "execution_count": 35,
   "metadata": {},
   "outputs": [
    {
     "data": {
      "text/plain": [
       "'.\\\\my_mnist_logs\\\\run_001'"
      ]
     },
     "execution_count": 35,
     "metadata": {},
     "output_type": "execute_result"
    }
   ],
   "source": [
    "run_index = 1 # increment this at every run\n",
    "run_logdir = os.path.join(os.curdir, \"my_mnist_logs\", \"run_{:03d}\".format(run_index))\n",
    "run_logdir"
   ]
  },
  {
   "cell_type": "code",
   "execution_count": 36,
   "metadata": {},
   "outputs": [
    {
     "name": "stdout",
     "output_type": "stream",
     "text": [
      "Train on 55000 samples, validate on 5000 samples\n",
      "Epoch 1/100\n",
      "55000/55000 [==============================] - 4s 69us/sample - loss: 0.2363 - accuracy: 0.9277 - val_loss: 0.1144 - val_accuracy: 0.9656\n",
      "Epoch 2/100\n",
      "55000/55000 [==============================] - 5s 97us/sample - loss: 0.0954 - accuracy: 0.9701 - val_loss: 0.0814 - val_accuracy: 0.9778\n",
      "Epoch 3/100\n",
      "55000/55000 [==============================] - 4s 71us/sample - loss: 0.0648 - accuracy: 0.9797 - val_loss: 0.0815 - val_accuracy: 0.9770\n",
      "Epoch 4/100\n",
      "55000/55000 [==============================] - 5s 96us/sample - loss: 0.0466 - accuracy: 0.9848 - val_loss: 0.0840 - val_accuracy: 0.9760\n",
      "Epoch 5/100\n",
      "55000/55000 [==============================] - 4s 66us/sample - loss: 0.0321 - accuracy: 0.9896 - val_loss: 0.4316 - val_accuracy: 0.9108\n",
      "Epoch 6/100\n",
      "55000/55000 [==============================] - 4s 65us/sample - loss: 0.0240 - accuracy: 0.9923 - val_loss: 0.0696 - val_accuracy: 0.9810\n",
      "Epoch 7/100\n",
      "55000/55000 [==============================] - 5s 91us/sample - loss: 0.0215 - accuracy: 0.9927 - val_loss: 0.0759 - val_accuracy: 0.9812\n",
      "Epoch 8/100\n",
      "55000/55000 [==============================] - 5s 98us/sample - loss: 0.0145 - accuracy: 0.9953 - val_loss: 0.0735 - val_accuracy: 0.9832\n",
      "Epoch 9/100\n",
      "55000/55000 [==============================] - 4s 64us/sample - loss: 0.0088 - accuracy: 0.9974 - val_loss: 0.0859 - val_accuracy: 0.9804\n",
      "Epoch 10/100\n",
      "55000/55000 [==============================] - 4s 67us/sample - loss: 0.0073 - accuracy: 0.9978 - val_loss: 0.0738 - val_accuracy: 0.9850\n",
      "Epoch 11/100\n",
      "55000/55000 [==============================] - 5s 84us/sample - loss: 0.0052 - accuracy: 0.9984 - val_loss: 0.0749 - val_accuracy: 0.9848\n",
      "Epoch 12/100\n",
      "55000/55000 [==============================] - 4s 81us/sample - loss: 0.0043 - accuracy: 0.9988 - val_loss: 0.0843 - val_accuracy: 0.9816\n",
      "Epoch 13/100\n",
      "55000/55000 [==============================] - 4s 65us/sample - loss: 0.0015 - accuracy: 0.9997 - val_loss: 0.0757 - val_accuracy: 0.9866\n",
      "Epoch 14/100\n",
      "55000/55000 [==============================] - 10s 178us/sample - loss: 6.6109e-04 - accuracy: 0.9999 - val_loss: 0.0753 - val_accuracy: 0.9860\n",
      "Epoch 15/100\n",
      "55000/55000 [==============================] - 4s 81us/sample - loss: 2.8478e-04 - accuracy: 1.0000 - val_loss: 0.0769 - val_accuracy: 0.9864\n",
      "Epoch 16/100\n",
      "55000/55000 [==============================] - 4s 64us/sample - loss: 2.0629e-04 - accuracy: 1.0000 - val_loss: 0.0770 - val_accuracy: 0.9862\n",
      "Epoch 17/100\n",
      "55000/55000 [==============================] - 3s 61us/sample - loss: 1.7687e-04 - accuracy: 1.0000 - val_loss: 0.0781 - val_accuracy: 0.9864\n",
      "Epoch 18/100\n",
      "55000/55000 [==============================] - 4s 67us/sample - loss: 1.5598e-04 - accuracy: 1.0000 - val_loss: 0.0789 - val_accuracy: 0.9862\n",
      "Epoch 19/100\n",
      "55000/55000 [==============================] - 3s 63us/sample - loss: 1.4083e-04 - accuracy: 1.0000 - val_loss: 0.0794 - val_accuracy: 0.9862\n",
      "Epoch 20/100\n",
      "55000/55000 [==============================] - 4s 64us/sample - loss: 1.2843e-04 - accuracy: 1.0000 - val_loss: 0.0796 - val_accuracy: 0.9862\n",
      "Epoch 21/100\n",
      "55000/55000 [==============================] - 4s 66us/sample - loss: 1.1881e-04 - accuracy: 1.0000 - val_loss: 0.0804 - val_accuracy: 0.9862\n",
      "Epoch 22/100\n",
      "55000/55000 [==============================] - 4s 78us/sample - loss: 1.1147e-04 - accuracy: 1.0000 - val_loss: 0.0805 - val_accuracy: 0.9862\n",
      "Epoch 23/100\n",
      "55000/55000 [==============================] - 4s 70us/sample - loss: 1.0354e-04 - accuracy: 1.0000 - val_loss: 0.0810 - val_accuracy: 0.9864\n",
      "Epoch 24/100\n",
      "55000/55000 [==============================] - 5s 96us/sample - loss: 9.7789e-05 - accuracy: 1.0000 - val_loss: 0.0817 - val_accuracy: 0.9864\n",
      "Epoch 25/100\n",
      "55000/55000 [==============================] - 4s 76us/sample - loss: 9.2660e-05 - accuracy: 1.0000 - val_loss: 0.0821 - val_accuracy: 0.9862\n",
      "Epoch 26/100\n",
      "55000/55000 [==============================] - 5s 92us/sample - loss: 8.7709e-05 - accuracy: 1.0000 - val_loss: 0.0823 - val_accuracy: 0.9866\n"
     ]
    }
   ],
   "source": [
    "early_stopping_cb = keras.callbacks.EarlyStopping(patience=20)\n",
    "checkpoint_cb = keras.callbacks.ModelCheckpoint(\"my_mnist_model.h5\", save_best_only=True)\n",
    "tensorboard_cb = keras.callbacks.TensorBoard(run_logdir)\n",
    "\n",
    "history = model.fit(X_train, y_train, epochs=100,\n",
    "                    validation_data=(X_valid, y_valid),\n",
    "                    callbacks=[early_stopping_cb, checkpoint_cb, tensorboard_cb])"
   ]
  },
  {
   "cell_type": "code",
   "execution_count": 37,
   "metadata": {},
   "outputs": [
    {
     "name": "stdout",
     "output_type": "stream",
     "text": [
      "10000/10000 [==============================] - 0s 36us/sample - loss: 0.0726 - accuracy: 0.9797\n"
     ]
    },
    {
     "data": {
      "text/plain": [
       "[0.07260669159166501, 0.9797]"
      ]
     },
     "execution_count": 37,
     "metadata": {},
     "output_type": "execute_result"
    }
   ],
   "source": [
    "model = keras.models.load_model(\"my_mnist_model.h5\") # rollback to best model\n",
    "model.evaluate(X_test, y_test)"
   ]
  },
  {
   "cell_type": "code",
   "execution_count": 39,
   "metadata": {},
   "outputs": [],
   "source": [
    "%load_ext tensorboard"
   ]
  },
  {
   "cell_type": "code",
   "execution_count": 40,
   "metadata": {},
   "outputs": [
    {
     "data": {
      "text/plain": [
       "ERROR: Timed out waiting for TensorBoard to start. It may still be running as pid 17428."
      ]
     },
     "metadata": {},
     "output_type": "display_data"
    }
   ],
   "source": [
    "%tensorboard --logdir=./my_mnist_logs --port=6006"
   ]
  },
  {
   "cell_type": "markdown",
   "metadata": {},
   "source": [
    "#Help from https://github.com/ageron/handson-ml2/blob/master/10_neural_nets_with_keras.ipynb "
   ]
  }
 ],
 "metadata": {
  "kernelspec": {
   "display_name": "Python 3",
   "language": "python",
   "name": "python3"
  },
  "language_info": {
   "codemirror_mode": {
    "name": "ipython",
    "version": 3
   },
   "file_extension": ".py",
   "mimetype": "text/x-python",
   "name": "python",
   "nbconvert_exporter": "python",
   "pygments_lexer": "ipython3",
   "version": "3.7.7"
  }
 },
 "nbformat": 4,
 "nbformat_minor": 4
}
