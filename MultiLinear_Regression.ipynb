{
 "cells": [
  {
   "cell_type": "markdown",
   "metadata": {},
   "source": [
    " \n",
    "\n",
    "      \n",
    "\n",
    "\n",
    "\n",
    "--------------\n",
    "You are given some artificial data. The relation between y-x is polynomial with noisy. You need to: \n",
    "    \n",
    "    (1) transform data to different degrees:\n",
    "        a. d = 3\n",
    "        b. d = 5\n",
    "        c. d = 20\n",
    "        or other degrees you want.  \n",
    "          \n",
    "    (2) For each degree:\n",
    "        a. apply linear model \n",
    "        b. calculate the MSE (mean squared error)\n",
    "        c. plot the model predictions\n",
    "        \n",
    "    (3) write a short summary in the last markdown cell  \n",
    "      \n",
    "    (4) (optional) plot a learning curve with many degree choices  (MSE ~ degree)"
   ]
  },
  {
   "cell_type": "markdown",
   "metadata": {},
   "source": [
    "#  Polynomial Regression to Multi-linear Regression\n",
    "\n",
    "---\n",
    "\n",
    "    When data does not have linear relationship between the independent variables x and response variable y (or the outcome), we have to look for more complicated models. For Polynomial models,  we can convert polynomial relation into multi-linear relation. Thus, we are still working on linear regression. \n"
   ]
  },
  {
   "cell_type": "markdown",
   "metadata": {},
   "source": [
    "Suppose we use the following polymonial equation to match the data:\n",
    "\n",
    "$$ y = b + w_{1}*x + w_{2}x^{2} + .... + w_{d}x^{d} $$\n",
    "\n",
    "Where d is the degree of the polynomial.\n",
    "\n",
    "What we can do: transformation:  \n",
    "$$   x  -> x_{1} $$  \n",
    "$$   x^{2}  -> x_{2} $$  \n",
    "$$ .......... $$  \n",
    "$$   x^{d}  -> x_{d} $$  \n",
    "\n",
    "Now the problem becomes:\n",
    "$$ y = b + w_{1}*x_{1} + w_{2}x_{2} + .... + w_{d}x_{d} $$\n",
    "  \n",
    "  \n",
    "This is again another multi-linear regression problem."
   ]
  },
  {
   "cell_type": "markdown",
   "metadata": {},
   "source": [
    "## import some modules"
   ]
  },
  {
   "cell_type": "code",
   "execution_count": 26,
   "metadata": {},
   "outputs": [
    {
     "name": "stdout",
     "output_type": "stream",
     "text": [
      "Requirement already satisfied: numpy in c:\\users\\lukel\\appdata\\local\\continuum\\anaconda3\\envs\\dataanalyticshw2logicgateor\\lib\\site-packages (1.18.2)Note: you may need to restart the kernel to use updated packages.\n",
      "\n"
     ]
    }
   ],
   "source": [
    "pip install numpy"
   ]
  },
  {
   "cell_type": "code",
   "execution_count": 27,
   "metadata": {},
   "outputs": [
    {
     "name": "stdout",
     "output_type": "stream",
     "text": [
      "Requirement already satisfied: sklearn in c:\\users\\lukel\\appdata\\local\\continuum\\anaconda3\\envs\\dataanalyticshw2logicgateor\\lib\\site-packages (0.0)\n",
      "Requirement already satisfied: scikit-learn in c:\\users\\lukel\\appdata\\local\\continuum\\anaconda3\\envs\\dataanalyticshw2logicgateor\\lib\\site-packages (from sklearn) (0.22.2.post1)\n",
      "Requirement already satisfied: numpy>=1.11.0 in c:\\users\\lukel\\appdata\\local\\continuum\\anaconda3\\envs\\dataanalyticshw2logicgateor\\lib\\site-packages (from scikit-learn->sklearn) (1.18.2)\n",
      "Requirement already satisfied: scipy>=0.17.0 in c:\\users\\lukel\\appdata\\local\\continuum\\anaconda3\\envs\\dataanalyticshw2logicgateor\\lib\\site-packages (from scikit-learn->sklearn) (1.4.1)\n",
      "Requirement already satisfied: joblib>=0.11 in c:\\users\\lukel\\appdata\\local\\continuum\\anaconda3\\envs\\dataanalyticshw2logicgateor\\lib\\site-packages (from scikit-learn->sklearn) (0.14.1)\n",
      "Note: you may need to restart the kernel to use updated packages.\n"
     ]
    }
   ],
   "source": [
    "pip install sklearn"
   ]
  },
  {
   "cell_type": "code",
   "execution_count": 28,
   "metadata": {},
   "outputs": [
    {
     "name": "stdout",
     "output_type": "stream",
     "text": [
      "Requirement already satisfied: matplotlib in c:\\users\\lukel\\appdata\\local\\continuum\\anaconda3\\envs\\dataanalyticshw2logicgateor\\lib\\site-packages (3.2.1)\n",
      "Requirement already satisfied: cycler>=0.10 in c:\\users\\lukel\\appdata\\local\\continuum\\anaconda3\\envs\\dataanalyticshw2logicgateor\\lib\\site-packages (from matplotlib) (0.10.0)\n",
      "Requirement already satisfied: pyparsing!=2.0.4,!=2.1.2,!=2.1.6,>=2.0.1 in c:\\users\\lukel\\appdata\\local\\continuum\\anaconda3\\envs\\dataanalyticshw2logicgateor\\lib\\site-packages (from matplotlib) (2.4.7)\n",
      "Requirement already satisfied: numpy>=1.11 in c:\\users\\lukel\\appdata\\local\\continuum\\anaconda3\\envs\\dataanalyticshw2logicgateor\\lib\\site-packages (from matplotlib) (1.18.2)\n",
      "Requirement already satisfied: kiwisolver>=1.0.1 in c:\\users\\lukel\\appdata\\local\\continuum\\anaconda3\\envs\\dataanalyticshw2logicgateor\\lib\\site-packages (from matplotlib) (1.2.0)\n",
      "Requirement already satisfied: python-dateutil>=2.1 in c:\\users\\lukel\\appdata\\local\\continuum\\anaconda3\\envs\\dataanalyticshw2logicgateor\\lib\\site-packages (from matplotlib) (2.8.1)\n",
      "Requirement already satisfied: six in c:\\users\\lukel\\appdata\\local\\continuum\\anaconda3\\envs\\dataanalyticshw2logicgateor\\lib\\site-packages (from cycler>=0.10->matplotlib) (1.14.0)\n",
      "Note: you may need to restart the kernel to use updated packages.\n"
     ]
    }
   ],
   "source": [
    "pip install matplotlib"
   ]
  },
  {
   "cell_type": "code",
   "execution_count": 29,
   "metadata": {},
   "outputs": [],
   "source": [
    "# Import python modules \n",
    "import math\n",
    "import numpy as np\n",
    "from sklearn.metrics import accuracy_score\n",
    "from matplotlib import pyplot as plt\n",
    "from sklearn.preprocessing import PolynomialFeatures\n",
    "from sklearn.linear_model import LinearRegression\n"
   ]
  },
  {
   "cell_type": "markdown",
   "metadata": {},
   "source": [
    "## load data into memory and visualize the data"
   ]
  },
  {
   "cell_type": "code",
   "execution_count": 96,
   "metadata": {},
   "outputs": [
    {
     "data": {
      "image/png": "[encoded data removed]",
      "text/plain": [
       "<Figure size 432x288 with 1 Axes>"
      ]
     },
     "metadata": {
      "needs_background": "light"
     },
     "output_type": "display_data"
    }
   ],
   "source": [
    "# deRead in train and test synthetic data from local storage\n",
    "train_x = np.loadtxt(r\"C:\\Users\\lukel\\OneDrive\\Desktop\\Machine Learning\\HW2\\data_train.txt\", delimiter = ',', dtype=float)\n",
    "train_y = np.loadtxt(r\"C:\\Users\\lukel\\OneDrive\\Desktop\\Machine Learning\\HW2\\label_train.txt\", delimiter = ',', dtype=float)\n",
    "\n",
    "test_x =  np.loadtxt(r\"C:\\Users\\lukel\\OneDrive\\Desktop\\Machine Learning\\HW2\\data_test.txt\", delimiter = ',', dtype=float)\n",
    "test_y =  np.loadtxt(r\"C:\\Users\\lukel\\OneDrive\\Desktop\\Machine Learning\\HW2\\label_test.txt\", delimiter = ',', dtype=float)\n",
    "\n",
    "# (1) get data and labels\n",
    "train_x = train_x.reshape(-1,1) # data changed to column vector\n",
    "test_x = test_x.reshape(-1,1) # data changed to column vector\n",
    "\n",
    "# show the data in plotting\n",
    "plt.scatter(train_x, train_y, color='blue', label = \"Training data\")\n",
    "plt.scatter(test_x, test_y,  color='red', label = \"Testing data\")\n",
    "plt.legend()\n",
    "plt.show()"
   ]
  },
  {
   "cell_type": "code",
   "execution_count": 97,
   "metadata": {},
   "outputs": [
    {
     "name": "stdout",
     "output_type": "stream",
     "text": [
      "(200, 1) (200, 1) (200,) (200,)\n"
     ]
    }
   ],
   "source": [
    "# take some data from the scaled data for test now\n",
    "from sklearn.model_selection import train_test_split\n",
    "\n",
    "#X_train, X_test, y_train, y_test = train_test_split(X_prepared, housing_labels, test_size=0.2)\n",
    "print(train_x.shape, test_x.shape, train_y.shape, test_y.shape)"
   ]
  },
  {
   "cell_type": "markdown",
   "metadata": {},
   "source": [
    "## Data transformation (d=3)"
   ]
  },
  {
   "cell_type": "code",
   "execution_count": 119,
   "metadata": {},
   "outputs": [
    {
     "data": {
      "text/plain": [
       "array([  5.56832   ,  31.00618762, 172.65237466])"
      ]
     },
     "execution_count": 119,
     "metadata": {},
     "output_type": "execute_result"
    }
   ],
   "source": [
    "# transform data to higher order\n",
    "# my code\n",
    "from sklearn.preprocessing import PolynomialFeatures\n",
    "poly_features = PolynomialFeatures(degree=3, include_bias=False)\n",
    "X_poly = poly_features.fit_transform(test_x)\n",
    "X_poly[0]"
   ]
  },
  {
   "cell_type": "markdown",
   "metadata": {},
   "source": [
    "## Apply linear models"
   ]
  },
  {
   "cell_type": "code",
   "execution_count": 120,
   "metadata": {},
   "outputs": [
    {
     "name": "stdout",
     "output_type": "stream",
     "text": [
      "2.033358427818409\n",
      "[-6.31973520e-02  3.08215172e-03  5.96775669e-05]\n"
     ]
    }
   ],
   "source": [
    "# Now we can use the linear model\n",
    "from sklearn.linear_model import LinearRegression\n",
    "# Your code\n",
    "lin_reg= LinearRegression()\n",
    "lin_reg.fit(X_poly, train_y)\n",
    "print(lin_reg.intercept_)\n",
    "print(lin_reg.coef_)"
   ]
  },
  {
   "cell_type": "code",
   "execution_count": 121,
   "metadata": {},
   "outputs": [
    {
     "name": "stdout",
     "output_type": "stream",
     "text": [
      "MSE= 0.8338303881926135\n"
     ]
    }
   ],
   "source": [
    "#print(\"MSE=\", MSE)\n",
    "\n",
    "from sklearn.metrics import mean_squared_error\n",
    "\n",
    "predictions = lin_reg.predict(X_poly)\n",
    "\n",
    "#X_poly = X_poly.reshape(-1,1) #data changed to column vector\n",
    "\n",
    "lin_mse = mean_squared_error(train_y, predictions)\n",
    "lin_rmse = np.sqrt(lin_mse)\n",
    "\n",
    "print(\"MSE=\", lin_rmse)"
   ]
  },
  {
   "cell_type": "markdown",
   "metadata": {},
   "source": [
    "## Plotting"
   ]
  },
  {
   "cell_type": "code",
   "execution_count": 122,
   "metadata": {},
   "outputs": [
    {
     "data": {
      "image/png": "[encoded data removed]",
      "text/plain": [
       "<Figure size 432x288 with 1 Axes>"
      ]
     },
     "metadata": {
      "needs_background": "light"
     },
     "output_type": "display_data"
    }
   ],
   "source": [
    "import matplotlib.pyplot as plt\n",
    "\n",
    "# you code\n",
    "plt.scatter(train_x, train_y, color='blue', label = \"Training data\")\n",
    "plt.scatter(predictions, test_y, color='red', label = \"Predictions data\")\n",
    "plt.legend()\n",
    "plt.show()\n"
   ]
  },
  {
   "cell_type": "markdown",
   "metadata": {},
   "source": [
    "## Data transformation (d=5)"
   ]
  },
  {
   "cell_type": "code",
   "execution_count": 123,
   "metadata": {},
   "outputs": [
    {
     "data": {
      "text/plain": [
       "array([   5.56832   ,   31.00618762,  172.65237466,  961.38367088,\n",
       "       5353.29192221])"
      ]
     },
     "execution_count": 123,
     "metadata": {},
     "output_type": "execute_result"
    }
   ],
   "source": [
    "# transform data to higher order\n",
    "\n",
    "# your code\n",
    "from sklearn.preprocessing import PolynomialFeatures\n",
    "poly_features = PolynomialFeatures(degree=5, include_bias=False)\n",
    "X_poly = poly_features.fit_transform(test_x)\n",
    "X_poly[0]"
   ]
  },
  {
   "cell_type": "markdown",
   "metadata": {},
   "source": [
    "## Apply linear models"
   ]
  },
  {
   "cell_type": "code",
   "execution_count": 124,
   "metadata": {},
   "outputs": [
    {
     "name": "stdout",
     "output_type": "stream",
     "text": [
      "2.255108994497192\n",
      "[-5.40795983e-01  2.52563070e-01 -5.05465545e-02  4.37848784e-03\n",
      " -1.35527087e-04]\n"
     ]
    }
   ],
   "source": [
    "# Now we can use the linear model\n",
    "from sklearn.linear_model import LinearRegression\n",
    "# Your code\n",
    "lin_reg= LinearRegression()\n",
    "lin_reg.fit(X_poly, train_y)\n",
    "print(lin_reg.intercept_)\n",
    "print(lin_reg.coef_)"
   ]
  },
  {
   "cell_type": "code",
   "execution_count": 125,
   "metadata": {},
   "outputs": [
    {
     "name": "stdout",
     "output_type": "stream",
     "text": [
      "MSE= 0.8320957173701815\n"
     ]
    }
   ],
   "source": [
    "#print(\"MSE=\", MSE)\n",
    "\n",
    "from sklearn.metrics import mean_squared_error\n",
    "\n",
    "predictions = lin_reg.predict(X_poly)\n",
    "\n",
    "#X_poly = X_poly.reshape(-1,1) #data changed to column vector\n",
    "\n",
    "lin_mse = mean_squared_error(train_y, predictions)\n",
    "lin_rmse = np.sqrt(lin_mse)\n",
    "\n",
    "print(\"MSE=\", lin_rmse)"
   ]
  },
  {
   "cell_type": "markdown",
   "metadata": {},
   "source": [
    "## Plotting"
   ]
  },
  {
   "cell_type": "code",
   "execution_count": 126,
   "metadata": {},
   "outputs": [
    {
     "data": {
      "image/png": "[encoded data removed]",
      "text/plain": [
       "<Figure size 432x288 with 1 Axes>"
      ]
     },
     "metadata": {
      "needs_background": "light"
     },
     "output_type": "display_data"
    }
   ],
   "source": [
    "import matplotlib.pyplot as plt\n",
    "\n",
    "# your code\n",
    "plt.scatter(train_x, train_y, color='blue', label = \"Training data\")\n",
    "plt.scatter(predictions, test_y, color='red', label = \"Predictions data\")\n",
    "plt.legend()\n",
    "plt.show()"
   ]
  },
  {
   "cell_type": "markdown",
   "metadata": {},
   "source": [
    "## Data transformation (d=20)"
   ]
  },
  {
   "cell_type": "code",
   "execution_count": 127,
   "metadata": {},
   "outputs": [
    {
     "data": {
      "text/plain": [
       "array([5.56832000e+00, 3.10061876e+01, 1.72652375e+02, 9.61383671e+02,\n",
       "       5.35329192e+03, 2.98088425e+04, 1.65985174e+05, 9.24258563e+05,\n",
       "       5.14656744e+06, 2.86577344e+07, 1.59575436e+08, 8.88567090e+08,\n",
       "       4.94782590e+09, 2.75510779e+10, 1.53413218e+11, 8.54253891e+11,\n",
       "       4.75675902e+12, 2.64871564e+13, 1.47488963e+14, 8.21265741e+14])"
      ]
     },
     "execution_count": 127,
     "metadata": {},
     "output_type": "execute_result"
    }
   ],
   "source": [
    "# transform data to higher order\n",
    "\n",
    "# your code\n",
    "from sklearn.preprocessing import PolynomialFeatures\n",
    "poly_features = PolynomialFeatures(degree=20, include_bias=False)\n",
    "X_poly = poly_features.fit_transform(test_x)\n",
    "X_poly[0]"
   ]
  },
  {
   "cell_type": "markdown",
   "metadata": {},
   "source": [
    "## Apply linear models"
   ]
  },
  {
   "cell_type": "code",
   "execution_count": 128,
   "metadata": {},
   "outputs": [
    {
     "name": "stdout",
     "output_type": "stream",
     "text": [
      "1.2852430988949062\n",
      "[-2.84458693e-15 -1.15188763e-11 -1.81665712e-13 -5.74028169e-13\n",
      " -2.86566579e-12 -1.36421251e-11 -6.12954564e-11 -2.55997928e-10\n",
      " -9.70345433e-10 -3.21344158e-09 -8.69995450e-09 -1.67396330e-08\n",
      " -1.41913207e-08  1.54227379e-08 -5.15104336e-09  8.89536467e-10\n",
      " -8.93292324e-11  5.28477231e-12 -1.71517306e-13  2.36285694e-15]\n"
     ]
    }
   ],
   "source": [
    "# Now we can use the linear model\n",
    "from sklearn.linear_model import LinearRegression\n",
    "# Your code\n",
    "lin_reg= LinearRegression()\n",
    "lin_reg.fit(X_poly, test_y)\n",
    "print(lin_reg.intercept_)\n",
    "print(lin_reg.coef_)"
   ]
  },
  {
   "cell_type": "code",
   "execution_count": 129,
   "metadata": {},
   "outputs": [
    {
     "name": "stdout",
     "output_type": "stream",
     "text": [
      "MSE= 1.1829840920855834\n"
     ]
    }
   ],
   "source": [
    "#print(\"MSE=\", MSE)\n",
    "\n",
    "from sklearn.metrics import mean_squared_error\n",
    "\n",
    "predictions = lin_reg.predict(X_poly)\n",
    "\n",
    "#X_poly = X_poly.reshape(-1,1) #data changed to column vector\n",
    "\n",
    "lin_mse = mean_squared_error(train_y, predictions)\n",
    "lin_rmse = np.sqrt(lin_mse)\n",
    "\n",
    "print(\"MSE=\", lin_rmse)"
   ]
  },
  {
   "cell_type": "markdown",
   "metadata": {},
   "source": [
    "## Plotting"
   ]
  },
  {
   "cell_type": "code",
   "execution_count": 130,
   "metadata": {},
   "outputs": [
    {
     "data": {
      "image/png": "[encoded data removed]",
      "text/plain": [
       "<Figure size 432x288 with 1 Axes>"
      ]
     },
     "metadata": {
      "needs_background": "light"
     },
     "output_type": "display_data"
    }
   ],
   "source": [
    "import matplotlib.pyplot as plt\n",
    "\n",
    "# your code\n",
    "plt.scatter(train_x, train_y, color='blue', label = \"Training data\")\n",
    "plt.scatter(predictions, test_y, color='red', label = \"Predictions data\")\n",
    "plt.legend()\n",
    "plt.show()"
   ]
  },
  {
   "cell_type": "markdown",
   "metadata": {},
   "source": [
    "# Sample  run ploting for your reference"
   ]
  },
  {
   "attachments": {
    "image.png": {
     "image/png": "[encoded data removed]"
    }
   },
   "cell_type": "markdown",
   "metadata": {},
   "source": [
    "## underfitted: \n",
    "MSE= 0.5368444256448234\n",
    "![image.png](attachment:image.png)"
   ]
  },
  {
   "attachments": {
    "image.png": {
     "image/png": "[encoded data removed]"
    }
   },
   "cell_type": "markdown",
   "metadata": {},
   "source": [
    "## The best(I think): \n",
    "MSE= 0.1006800943208967\n",
    "\n",
    "![image.png](attachment:image.png)"
   ]
  },
  {
   "attachments": {
    "image.png": {
     "image/png": "[encoded data removed]"
    }
   },
   "cell_type": "markdown",
   "metadata": {},
   "source": [
    "## Overfitted: \n",
    "MSE= 0.2286894112602641\n",
    "![image.png](attachment:image.png)\n"
   ]
  },
  {
   "cell_type": "markdown",
   "metadata": {},
   "source": [
    "# Observations"
   ]
  },
  {
   "cell_type": "markdown",
   "metadata": {},
   "source": [
    "your observations:\n",
    "\n",
    "I noticed that with my code on this dataset: Data transformation degree 20 had the worst Mean Squared Error of about 1.18. Data transformation degree 3 had the second best Mean Squared Error of about 0.833, and data transformation degree 5 had the best Mean Squared Error of about 0.832.\n"
   ]
  },
  {
   "cell_type": "code",
   "execution_count": 6,
   "metadata": {},
   "outputs": [],
   "source": [
    "# end"
   ]
  }
 ],
 "metadata": {
  "kernelspec": {
   "display_name": "Python 3",
   "language": "python",
   "name": "python3"
  },
  "language_info": {
   "codemirror_mode": {
    "name": "ipython",
    "version": 3
   },
   "file_extension": ".py",
   "mimetype": "text/x-python",
   "name": "python",
   "nbconvert_exporter": "python",
   "pygments_lexer": "ipython3",
   "version": "3.7.6"
  },
  "toc": {
   "base_numbering": 1,
   "nav_menu": {},
   "number_sections": true,
   "sideBar": true,
   "skip_h1_title": false,
   "title_cell": "Table of Contents",
   "title_sidebar": "Contents",
   "toc_cell": false,
   "toc_position": {},
   "toc_section_display": true,
   "toc_window_display": false
  },
  "varInspector": {
   "cols": {
    "lenName": 16,
    "lenType": 16,
    "lenVar": 40
   },
   "kernels_config": {
    "python": {
     "delete_cmd_postfix": "",
     "delete_cmd_prefix": "del ",
     "library": "var_list.py",
     "varRefreshCmd": "print(var_dic_list())"
    },
    "r": {
     "delete_cmd_postfix": ") ",
     "delete_cmd_prefix": "rm(",
     "library": "var_list.r",
     "varRefreshCmd": "cat(var_dic_list()) "
    }
   },
   "types_to_exclude": [
    "module",
    "function",
    "builtin_function_or_method",
    "instance",
    "_Feature"
   ],
   "window_display": false
  }
 },
 "nbformat": 4,
 "nbformat_minor": 2
}
